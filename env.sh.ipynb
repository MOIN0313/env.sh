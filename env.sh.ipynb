{
 "cells": [
  {
   "cell_type": "code",
   "execution_count": null,
   "id": "923386b1",
   "metadata": {},
   "outputs": [],
   "source": [
    "####################### SSH KEY FOR GIT ###################################\n",
    "eval `ssh-agent -s` && ssh-add -k\n",
    "####################### To be added to git account settings ################\n",
    "\n",
    "\n",
    "###################### GIT PARAMETERS #####################################\n",
    "export GIT_PARENT_DIR=~\n",
    "export GIT_REPO_NAME=#your-repo\n",
    "export GIT_BRANCH_NAME=#your-branch\n",
    "export GIT_USER=#your-gituser\n",
    "export GIT_EMAIL=#your-email\n",
    "export GITHUB_ACCESS_TOKEN=#access-token from github developer settings\n",
    "export GIT_USER_UPSTREAM=#your-user\n",
    "\n",
    "\n",
    "############################################################################\n",
    "#### DO NOT EDIT BELOW THIS LINE: derived variables\n",
    "############################################################################\n",
    "\n",
    "export GIT_REMOTE_URL=git@github.com:$GIT_USER/$GIT_REPO_NAME.git\n",
    "export GIT_REMOTE_URL_HTTPS=https://github.com/$GIT_USER/$GIT_REPO_NAME.git\n",
    "export GIT_REMOTE_UPSTREAM=$GIT_USER_UPSTREAM/$GIT_REPO_NAME\n",
    "\n",
    "\n",
    "####################### Git Repo where notebooks will be pushed ############\n",
    "cd $GIT_PARENT_DIR && git clone $GIT_REMOTE_URL_HTTPS\n",
    "\n",
    "\n",
    "\n",
    "####################### Change in jupyter config ###########################\n",
    "if [ ! -f ~/.jupyter/jupyter_notebook_config.py ]; then\n",
    "   jupyter notebook --generate-config\n",
    "fi\n",
    "\n",
    "echo 'c.NotebookApp.disable_check_xsrf = True' >> ~/.jupyter/jupyter_notebook_config.py\n",
    "\n",
    "cp $GIT_PARENT_DIR/githubcommit/config ~/.ssh/config"
   ]
  }
 ],
 "metadata": {
  "kernelspec": {
   "display_name": "Python 3 (ipykernel)",
   "language": "python",
   "name": "python3"
  },
  "language_info": {
   "codemirror_mode": {
    "name": "ipython",
    "version": 3
   },
   "file_extension": ".py",
   "mimetype": "text/x-python",
   "name": "python",
   "nbconvert_exporter": "python",
   "pygments_lexer": "ipython3",
   "version": "3.9.12"
  }
 },
 "nbformat": 4,
 "nbformat_minor": 5
}
